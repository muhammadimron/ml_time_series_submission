{
  "nbformat": 4,
  "nbformat_minor": 0,
  "metadata": {
    "colab": {
      "provenance": []
    },
    "kernelspec": {
      "name": "python3",
      "display_name": "Python 3"
    },
    "language_info": {
      "name": "python"
    },
    "gpuClass": "standard"
  },
  "cells": [
    {
      "cell_type": "markdown",
      "source": [
        "Hallo, Kak Reviewer. \n",
        "\n",
        "Perkenalkan, namaku Muhammad Imron, bisa dipanggil Imron. Di submission Time Series ini, aku pakai dataset dari UCI Machine Learning namanya Tetuan City power consumption.csv. Rencananya di submission ini aku bakalan nerapin time series temperature.\n",
        "\n",
        "Mohon bantuannya kak, untuk direview.\n",
        "\n",
        "Terima kasih\n",
        "\n",
        "---\n",
        "\n",
        "https://archive.ics.uci.edu/ml/datasets/Power+consumption+of+Tetouan+city"
      ],
      "metadata": {
        "id": "3Ijd1IH75Jbd"
      }
    },
    {
      "cell_type": "markdown",
      "source": [
        "**Import Library**"
      ],
      "metadata": {
        "id": "rFHXMXye5yFW"
      }
    },
    {
      "cell_type": "code",
      "execution_count": 1,
      "metadata": {
        "id": "0e6z49tSOxL9"
      },
      "outputs": [],
      "source": [
        "import numpy as np\n",
        "import pandas as pd\n",
        "import matplotlib.pyplot as plt\n",
        "import tensorflow as tf\n",
        "\n",
        "from keras.callbacks import EarlyStopping\n",
        "from keras.layers import Dense, LSTM\n",
        "from sklearn.model_selection import train_test_split"
      ]
    },
    {
      "cell_type": "markdown",
      "source": [
        "**Dataset Exploration**"
      ],
      "metadata": {
        "id": "OwPACHaH53Xx"
      }
    },
    {
      "cell_type": "code",
      "source": [
        "df = pd.read_csv('/content/drive/MyDrive/Datasets/Tetuan City power consumption.csv')\n",
        "df.tail()"
      ],
      "metadata": {
        "colab": {
          "base_uri": "https://localhost:8080/",
          "height": 354
        },
        "id": "8yZ35IY5Q1Ro",
        "outputId": "6840ac34-e680-45c5-e8f4-f43123523530"
      },
      "execution_count": 21,
      "outputs": [
        {
          "output_type": "execute_result",
          "data": {
            "text/plain": [
              "               DateTime  Temperature  Humidity  Wind Speed  \\\n",
              "52411  12/30/2017 23:10        7.010      72.4       0.080   \n",
              "52412  12/30/2017 23:20        6.947      72.6       0.082   \n",
              "52413  12/30/2017 23:30        6.900      72.8       0.086   \n",
              "52414  12/30/2017 23:40        6.758      73.0       0.080   \n",
              "52415  12/30/2017 23:50        6.580      74.1       0.081   \n",
              "\n",
              "       general diffuse flows  diffuse flows  Zone 1 Power Consumption  \\\n",
              "52411                  0.040          0.096               31160.45627   \n",
              "52412                  0.051          0.093               30430.41825   \n",
              "52413                  0.084          0.074               29590.87452   \n",
              "52414                  0.066          0.089               28958.17490   \n",
              "52415                  0.062          0.111               28349.80989   \n",
              "\n",
              "       Zone 2  Power Consumption  Zone 3  Power Consumption  \n",
              "52411                26857.31820                14780.31212  \n",
              "52412                26124.57809                14428.81152  \n",
              "52413                25277.69254                13806.48259  \n",
              "52414                24692.23688                13512.60504  \n",
              "52415                24055.23167                13345.49820  "
            ],
            "text/html": [
              "\n",
              "  <div id=\"df-bf9a4b3a-cdc2-48a0-9b47-9f1771e650d8\">\n",
              "    <div class=\"colab-df-container\">\n",
              "      <div>\n",
              "<style scoped>\n",
              "    .dataframe tbody tr th:only-of-type {\n",
              "        vertical-align: middle;\n",
              "    }\n",
              "\n",
              "    .dataframe tbody tr th {\n",
              "        vertical-align: top;\n",
              "    }\n",
              "\n",
              "    .dataframe thead th {\n",
              "        text-align: right;\n",
              "    }\n",
              "</style>\n",
              "<table border=\"1\" class=\"dataframe\">\n",
              "  <thead>\n",
              "    <tr style=\"text-align: right;\">\n",
              "      <th></th>\n",
              "      <th>DateTime</th>\n",
              "      <th>Temperature</th>\n",
              "      <th>Humidity</th>\n",
              "      <th>Wind Speed</th>\n",
              "      <th>general diffuse flows</th>\n",
              "      <th>diffuse flows</th>\n",
              "      <th>Zone 1 Power Consumption</th>\n",
              "      <th>Zone 2  Power Consumption</th>\n",
              "      <th>Zone 3  Power Consumption</th>\n",
              "    </tr>\n",
              "  </thead>\n",
              "  <tbody>\n",
              "    <tr>\n",
              "      <th>52411</th>\n",
              "      <td>12/30/2017 23:10</td>\n",
              "      <td>7.010</td>\n",
              "      <td>72.4</td>\n",
              "      <td>0.080</td>\n",
              "      <td>0.040</td>\n",
              "      <td>0.096</td>\n",
              "      <td>31160.45627</td>\n",
              "      <td>26857.31820</td>\n",
              "      <td>14780.31212</td>\n",
              "    </tr>\n",
              "    <tr>\n",
              "      <th>52412</th>\n",
              "      <td>12/30/2017 23:20</td>\n",
              "      <td>6.947</td>\n",
              "      <td>72.6</td>\n",
              "      <td>0.082</td>\n",
              "      <td>0.051</td>\n",
              "      <td>0.093</td>\n",
              "      <td>30430.41825</td>\n",
              "      <td>26124.57809</td>\n",
              "      <td>14428.81152</td>\n",
              "    </tr>\n",
              "    <tr>\n",
              "      <th>52413</th>\n",
              "      <td>12/30/2017 23:30</td>\n",
              "      <td>6.900</td>\n",
              "      <td>72.8</td>\n",
              "      <td>0.086</td>\n",
              "      <td>0.084</td>\n",
              "      <td>0.074</td>\n",
              "      <td>29590.87452</td>\n",
              "      <td>25277.69254</td>\n",
              "      <td>13806.48259</td>\n",
              "    </tr>\n",
              "    <tr>\n",
              "      <th>52414</th>\n",
              "      <td>12/30/2017 23:40</td>\n",
              "      <td>6.758</td>\n",
              "      <td>73.0</td>\n",
              "      <td>0.080</td>\n",
              "      <td>0.066</td>\n",
              "      <td>0.089</td>\n",
              "      <td>28958.17490</td>\n",
              "      <td>24692.23688</td>\n",
              "      <td>13512.60504</td>\n",
              "    </tr>\n",
              "    <tr>\n",
              "      <th>52415</th>\n",
              "      <td>12/30/2017 23:50</td>\n",
              "      <td>6.580</td>\n",
              "      <td>74.1</td>\n",
              "      <td>0.081</td>\n",
              "      <td>0.062</td>\n",
              "      <td>0.111</td>\n",
              "      <td>28349.80989</td>\n",
              "      <td>24055.23167</td>\n",
              "      <td>13345.49820</td>\n",
              "    </tr>\n",
              "  </tbody>\n",
              "</table>\n",
              "</div>\n",
              "      <button class=\"colab-df-convert\" onclick=\"convertToInteractive('df-bf9a4b3a-cdc2-48a0-9b47-9f1771e650d8')\"\n",
              "              title=\"Convert this dataframe to an interactive table.\"\n",
              "              style=\"display:none;\">\n",
              "        \n",
              "  <svg xmlns=\"http://www.w3.org/2000/svg\" height=\"24px\"viewBox=\"0 0 24 24\"\n",
              "       width=\"24px\">\n",
              "    <path d=\"M0 0h24v24H0V0z\" fill=\"none\"/>\n",
              "    <path d=\"M18.56 5.44l.94 2.06.94-2.06 2.06-.94-2.06-.94-.94-2.06-.94 2.06-2.06.94zm-11 1L8.5 8.5l.94-2.06 2.06-.94-2.06-.94L8.5 2.5l-.94 2.06-2.06.94zm10 10l.94 2.06.94-2.06 2.06-.94-2.06-.94-.94-2.06-.94 2.06-2.06.94z\"/><path d=\"M17.41 7.96l-1.37-1.37c-.4-.4-.92-.59-1.43-.59-.52 0-1.04.2-1.43.59L10.3 9.45l-7.72 7.72c-.78.78-.78 2.05 0 2.83L4 21.41c.39.39.9.59 1.41.59.51 0 1.02-.2 1.41-.59l7.78-7.78 2.81-2.81c.8-.78.8-2.07 0-2.86zM5.41 20L4 18.59l7.72-7.72 1.47 1.35L5.41 20z\"/>\n",
              "  </svg>\n",
              "      </button>\n",
              "      \n",
              "  <style>\n",
              "    .colab-df-container {\n",
              "      display:flex;\n",
              "      flex-wrap:wrap;\n",
              "      gap: 12px;\n",
              "    }\n",
              "\n",
              "    .colab-df-convert {\n",
              "      background-color: #E8F0FE;\n",
              "      border: none;\n",
              "      border-radius: 50%;\n",
              "      cursor: pointer;\n",
              "      display: none;\n",
              "      fill: #1967D2;\n",
              "      height: 32px;\n",
              "      padding: 0 0 0 0;\n",
              "      width: 32px;\n",
              "    }\n",
              "\n",
              "    .colab-df-convert:hover {\n",
              "      background-color: #E2EBFA;\n",
              "      box-shadow: 0px 1px 2px rgba(60, 64, 67, 0.3), 0px 1px 3px 1px rgba(60, 64, 67, 0.15);\n",
              "      fill: #174EA6;\n",
              "    }\n",
              "\n",
              "    [theme=dark] .colab-df-convert {\n",
              "      background-color: #3B4455;\n",
              "      fill: #D2E3FC;\n",
              "    }\n",
              "\n",
              "    [theme=dark] .colab-df-convert:hover {\n",
              "      background-color: #434B5C;\n",
              "      box-shadow: 0px 1px 3px 1px rgba(0, 0, 0, 0.15);\n",
              "      filter: drop-shadow(0px 1px 2px rgba(0, 0, 0, 0.3));\n",
              "      fill: #FFFFFF;\n",
              "    }\n",
              "  </style>\n",
              "\n",
              "      <script>\n",
              "        const buttonEl =\n",
              "          document.querySelector('#df-bf9a4b3a-cdc2-48a0-9b47-9f1771e650d8 button.colab-df-convert');\n",
              "        buttonEl.style.display =\n",
              "          google.colab.kernel.accessAllowed ? 'block' : 'none';\n",
              "\n",
              "        async function convertToInteractive(key) {\n",
              "          const element = document.querySelector('#df-bf9a4b3a-cdc2-48a0-9b47-9f1771e650d8');\n",
              "          const dataTable =\n",
              "            await google.colab.kernel.invokeFunction('convertToInteractive',\n",
              "                                                     [key], {});\n",
              "          if (!dataTable) return;\n",
              "\n",
              "          const docLinkHtml = 'Like what you see? Visit the ' +\n",
              "            '<a target=\"_blank\" href=https://colab.research.google.com/notebooks/data_table.ipynb>data table notebook</a>'\n",
              "            + ' to learn more about interactive tables.';\n",
              "          element.innerHTML = '';\n",
              "          dataTable['output_type'] = 'display_data';\n",
              "          await google.colab.output.renderOutput(dataTable, element);\n",
              "          const docLink = document.createElement('div');\n",
              "          docLink.innerHTML = docLinkHtml;\n",
              "          element.appendChild(docLink);\n",
              "        }\n",
              "      </script>\n",
              "    </div>\n",
              "  </div>\n",
              "  "
            ]
          },
          "metadata": {},
          "execution_count": 21
        }
      ]
    },
    {
      "cell_type": "code",
      "source": [
        "df.describe()"
      ],
      "metadata": {
        "id": "fnpz_u_6aMip",
        "colab": {
          "base_uri": "https://localhost:8080/",
          "height": 362
        },
        "outputId": "55223b2b-a798-4812-e577-c52a49339112"
      },
      "execution_count": 22,
      "outputs": [
        {
          "output_type": "execute_result",
          "data": {
            "text/plain": [
              "        Temperature      Humidity    Wind Speed  general diffuse flows  \\\n",
              "count  52416.000000  52416.000000  52416.000000           52416.000000   \n",
              "mean      18.810024     68.259518      1.959489             182.696614   \n",
              "std        5.815476     15.551177      2.348862             264.400960   \n",
              "min        3.247000     11.340000      0.050000               0.004000   \n",
              "25%       14.410000     58.310000      0.078000               0.062000   \n",
              "50%       18.780000     69.860000      0.086000               5.035500   \n",
              "75%       22.890000     81.400000      4.915000             319.600000   \n",
              "max       40.010000     94.800000      6.483000            1163.000000   \n",
              "\n",
              "       diffuse flows  Zone 1 Power Consumption  Zone 2  Power Consumption  \\\n",
              "count   52416.000000              52416.000000               52416.000000   \n",
              "mean       75.028022              32344.970564               21042.509082   \n",
              "std       124.210949               7130.562564                5201.465892   \n",
              "min         0.011000              13895.696200                8560.081466   \n",
              "25%         0.122000              26310.668692               16980.766032   \n",
              "50%         4.456000              32265.920340               20823.168405   \n",
              "75%       101.000000              37309.018185               24713.717520   \n",
              "max       936.000000              52204.395120               37408.860760   \n",
              "\n",
              "       Zone 3  Power Consumption  \n",
              "count               52416.000000  \n",
              "mean                17835.406218  \n",
              "std                  6622.165099  \n",
              "min                  5935.174070  \n",
              "25%                 13129.326630  \n",
              "50%                 16415.117470  \n",
              "75%                 21624.100420  \n",
              "max                 47598.326360  "
            ],
            "text/html": [
              "\n",
              "  <div id=\"df-68bb244f-7d86-434f-81c4-b4b764666296\">\n",
              "    <div class=\"colab-df-container\">\n",
              "      <div>\n",
              "<style scoped>\n",
              "    .dataframe tbody tr th:only-of-type {\n",
              "        vertical-align: middle;\n",
              "    }\n",
              "\n",
              "    .dataframe tbody tr th {\n",
              "        vertical-align: top;\n",
              "    }\n",
              "\n",
              "    .dataframe thead th {\n",
              "        text-align: right;\n",
              "    }\n",
              "</style>\n",
              "<table border=\"1\" class=\"dataframe\">\n",
              "  <thead>\n",
              "    <tr style=\"text-align: right;\">\n",
              "      <th></th>\n",
              "      <th>Temperature</th>\n",
              "      <th>Humidity</th>\n",
              "      <th>Wind Speed</th>\n",
              "      <th>general diffuse flows</th>\n",
              "      <th>diffuse flows</th>\n",
              "      <th>Zone 1 Power Consumption</th>\n",
              "      <th>Zone 2  Power Consumption</th>\n",
              "      <th>Zone 3  Power Consumption</th>\n",
              "    </tr>\n",
              "  </thead>\n",
              "  <tbody>\n",
              "    <tr>\n",
              "      <th>count</th>\n",
              "      <td>52416.000000</td>\n",
              "      <td>52416.000000</td>\n",
              "      <td>52416.000000</td>\n",
              "      <td>52416.000000</td>\n",
              "      <td>52416.000000</td>\n",
              "      <td>52416.000000</td>\n",
              "      <td>52416.000000</td>\n",
              "      <td>52416.000000</td>\n",
              "    </tr>\n",
              "    <tr>\n",
              "      <th>mean</th>\n",
              "      <td>18.810024</td>\n",
              "      <td>68.259518</td>\n",
              "      <td>1.959489</td>\n",
              "      <td>182.696614</td>\n",
              "      <td>75.028022</td>\n",
              "      <td>32344.970564</td>\n",
              "      <td>21042.509082</td>\n",
              "      <td>17835.406218</td>\n",
              "    </tr>\n",
              "    <tr>\n",
              "      <th>std</th>\n",
              "      <td>5.815476</td>\n",
              "      <td>15.551177</td>\n",
              "      <td>2.348862</td>\n",
              "      <td>264.400960</td>\n",
              "      <td>124.210949</td>\n",
              "      <td>7130.562564</td>\n",
              "      <td>5201.465892</td>\n",
              "      <td>6622.165099</td>\n",
              "    </tr>\n",
              "    <tr>\n",
              "      <th>min</th>\n",
              "      <td>3.247000</td>\n",
              "      <td>11.340000</td>\n",
              "      <td>0.050000</td>\n",
              "      <td>0.004000</td>\n",
              "      <td>0.011000</td>\n",
              "      <td>13895.696200</td>\n",
              "      <td>8560.081466</td>\n",
              "      <td>5935.174070</td>\n",
              "    </tr>\n",
              "    <tr>\n",
              "      <th>25%</th>\n",
              "      <td>14.410000</td>\n",
              "      <td>58.310000</td>\n",
              "      <td>0.078000</td>\n",
              "      <td>0.062000</td>\n",
              "      <td>0.122000</td>\n",
              "      <td>26310.668692</td>\n",
              "      <td>16980.766032</td>\n",
              "      <td>13129.326630</td>\n",
              "    </tr>\n",
              "    <tr>\n",
              "      <th>50%</th>\n",
              "      <td>18.780000</td>\n",
              "      <td>69.860000</td>\n",
              "      <td>0.086000</td>\n",
              "      <td>5.035500</td>\n",
              "      <td>4.456000</td>\n",
              "      <td>32265.920340</td>\n",
              "      <td>20823.168405</td>\n",
              "      <td>16415.117470</td>\n",
              "    </tr>\n",
              "    <tr>\n",
              "      <th>75%</th>\n",
              "      <td>22.890000</td>\n",
              "      <td>81.400000</td>\n",
              "      <td>4.915000</td>\n",
              "      <td>319.600000</td>\n",
              "      <td>101.000000</td>\n",
              "      <td>37309.018185</td>\n",
              "      <td>24713.717520</td>\n",
              "      <td>21624.100420</td>\n",
              "    </tr>\n",
              "    <tr>\n",
              "      <th>max</th>\n",
              "      <td>40.010000</td>\n",
              "      <td>94.800000</td>\n",
              "      <td>6.483000</td>\n",
              "      <td>1163.000000</td>\n",
              "      <td>936.000000</td>\n",
              "      <td>52204.395120</td>\n",
              "      <td>37408.860760</td>\n",
              "      <td>47598.326360</td>\n",
              "    </tr>\n",
              "  </tbody>\n",
              "</table>\n",
              "</div>\n",
              "      <button class=\"colab-df-convert\" onclick=\"convertToInteractive('df-68bb244f-7d86-434f-81c4-b4b764666296')\"\n",
              "              title=\"Convert this dataframe to an interactive table.\"\n",
              "              style=\"display:none;\">\n",
              "        \n",
              "  <svg xmlns=\"http://www.w3.org/2000/svg\" height=\"24px\"viewBox=\"0 0 24 24\"\n",
              "       width=\"24px\">\n",
              "    <path d=\"M0 0h24v24H0V0z\" fill=\"none\"/>\n",
              "    <path d=\"M18.56 5.44l.94 2.06.94-2.06 2.06-.94-2.06-.94-.94-2.06-.94 2.06-2.06.94zm-11 1L8.5 8.5l.94-2.06 2.06-.94-2.06-.94L8.5 2.5l-.94 2.06-2.06.94zm10 10l.94 2.06.94-2.06 2.06-.94-2.06-.94-.94-2.06-.94 2.06-2.06.94z\"/><path d=\"M17.41 7.96l-1.37-1.37c-.4-.4-.92-.59-1.43-.59-.52 0-1.04.2-1.43.59L10.3 9.45l-7.72 7.72c-.78.78-.78 2.05 0 2.83L4 21.41c.39.39.9.59 1.41.59.51 0 1.02-.2 1.41-.59l7.78-7.78 2.81-2.81c.8-.78.8-2.07 0-2.86zM5.41 20L4 18.59l7.72-7.72 1.47 1.35L5.41 20z\"/>\n",
              "  </svg>\n",
              "      </button>\n",
              "      \n",
              "  <style>\n",
              "    .colab-df-container {\n",
              "      display:flex;\n",
              "      flex-wrap:wrap;\n",
              "      gap: 12px;\n",
              "    }\n",
              "\n",
              "    .colab-df-convert {\n",
              "      background-color: #E8F0FE;\n",
              "      border: none;\n",
              "      border-radius: 50%;\n",
              "      cursor: pointer;\n",
              "      display: none;\n",
              "      fill: #1967D2;\n",
              "      height: 32px;\n",
              "      padding: 0 0 0 0;\n",
              "      width: 32px;\n",
              "    }\n",
              "\n",
              "    .colab-df-convert:hover {\n",
              "      background-color: #E2EBFA;\n",
              "      box-shadow: 0px 1px 2px rgba(60, 64, 67, 0.3), 0px 1px 3px 1px rgba(60, 64, 67, 0.15);\n",
              "      fill: #174EA6;\n",
              "    }\n",
              "\n",
              "    [theme=dark] .colab-df-convert {\n",
              "      background-color: #3B4455;\n",
              "      fill: #D2E3FC;\n",
              "    }\n",
              "\n",
              "    [theme=dark] .colab-df-convert:hover {\n",
              "      background-color: #434B5C;\n",
              "      box-shadow: 0px 1px 3px 1px rgba(0, 0, 0, 0.15);\n",
              "      filter: drop-shadow(0px 1px 2px rgba(0, 0, 0, 0.3));\n",
              "      fill: #FFFFFF;\n",
              "    }\n",
              "  </style>\n",
              "\n",
              "      <script>\n",
              "        const buttonEl =\n",
              "          document.querySelector('#df-68bb244f-7d86-434f-81c4-b4b764666296 button.colab-df-convert');\n",
              "        buttonEl.style.display =\n",
              "          google.colab.kernel.accessAllowed ? 'block' : 'none';\n",
              "\n",
              "        async function convertToInteractive(key) {\n",
              "          const element = document.querySelector('#df-68bb244f-7d86-434f-81c4-b4b764666296');\n",
              "          const dataTable =\n",
              "            await google.colab.kernel.invokeFunction('convertToInteractive',\n",
              "                                                     [key], {});\n",
              "          if (!dataTable) return;\n",
              "\n",
              "          const docLinkHtml = 'Like what you see? Visit the ' +\n",
              "            '<a target=\"_blank\" href=https://colab.research.google.com/notebooks/data_table.ipynb>data table notebook</a>'\n",
              "            + ' to learn more about interactive tables.';\n",
              "          element.innerHTML = '';\n",
              "          dataTable['output_type'] = 'display_data';\n",
              "          await google.colab.output.renderOutput(dataTable, element);\n",
              "          const docLink = document.createElement('div');\n",
              "          docLink.innerHTML = docLinkHtml;\n",
              "          element.appendChild(docLink);\n",
              "        }\n",
              "      </script>\n",
              "    </div>\n",
              "  </div>\n",
              "  "
            ]
          },
          "metadata": {},
          "execution_count": 22
        }
      ]
    },
    {
      "cell_type": "code",
      "source": [
        "df.isnull().sum()"
      ],
      "metadata": {
        "colab": {
          "base_uri": "https://localhost:8080/"
        },
        "id": "Tx_7UzkhQ-Bx",
        "outputId": "082d5e0f-6c04-4b05-cb76-99bc6845514d"
      },
      "execution_count": 23,
      "outputs": [
        {
          "output_type": "execute_result",
          "data": {
            "text/plain": [
              "DateTime                     0\n",
              "Temperature                  0\n",
              "Humidity                     0\n",
              "Wind Speed                   0\n",
              "general diffuse flows        0\n",
              "diffuse flows                0\n",
              "Zone 1 Power Consumption     0\n",
              "Zone 2  Power Consumption    0\n",
              "Zone 3  Power Consumption    0\n",
              "dtype: int64"
            ]
          },
          "metadata": {},
          "execution_count": 23
        }
      ]
    },
    {
      "cell_type": "markdown",
      "source": [
        "**Minimal MAE yang harus dicapai**"
      ],
      "metadata": {
        "id": "AOgmQeBhOlgg"
      }
    },
    {
      "cell_type": "code",
      "source": [
        "treshold = (df['Temperature'].max() - df['Temperature'].min()) * 10/100\n",
        "print('Minimal MAE yang harus dicapai : ', treshold)"
      ],
      "metadata": {
        "colab": {
          "base_uri": "https://localhost:8080/"
        },
        "id": "EvelENOrEAvo",
        "outputId": "3a25695e-28a8-4055-a758-6bbef9152985"
      },
      "execution_count": 24,
      "outputs": [
        {
          "output_type": "stream",
          "name": "stdout",
          "text": [
            "Minimal MAE yang harus dicapai :  3.6763\n"
          ]
        }
      ]
    },
    {
      "cell_type": "code",
      "source": [
        "dates = df['DateTime'].values\n",
        "temp = df['Temperature'].values\n",
        "\n",
        "plt.figure(figsize=(15,5))\n",
        "plt.plot(dates[:2000], temp[:2000])\n",
        "plt.title('Temperature Average',\n",
        "          fontsize=20)"
      ],
      "metadata": {
        "colab": {
          "base_uri": "https://localhost:8080/",
          "height": 358
        },
        "id": "eLxx5dlhRENm",
        "outputId": "1d96950c-aaaf-478d-cb06-f601512de066"
      },
      "execution_count": 25,
      "outputs": [
        {
          "output_type": "execute_result",
          "data": {
            "text/plain": [
              "Text(0.5, 1.0, 'Temperature Average')"
            ]
          },
          "metadata": {},
          "execution_count": 25
        },
        {
          "output_type": "display_data",
          "data": {
            "text/plain": [
              "<Figure size 1080x360 with 1 Axes>"
            ],
            "image/png": "[encoded data removed]"
          },
          "metadata": {
            "needs_background": "light"
          }
        }
      ]
    },
    {
      "cell_type": "markdown",
      "source": [
        "**Preprocessing**"
      ],
      "metadata": {
        "id": "30CmdHjA6Mik"
      }
    },
    {
      "cell_type": "code",
      "source": [
        "def windowed_dataset(series, window_size, batch_size, shuffle_buffer):\n",
        "  series = tf.expand_dims(series, axis=-1)\n",
        "  ds = tf.data.Dataset.from_tensor_slices(series)\n",
        "  ds = ds.window(window_size + 1, shift=1, drop_remainder=True)\n",
        "  ds = ds.flat_map(lambda w: w.batch(window_size + 1))\n",
        "  ds = ds.shuffle(shuffle_buffer)\n",
        "  ds = ds.map(lambda w: (w[:-1], w[-1:]))\n",
        "  return ds.batch(batch_size).prefetch(1)"
      ],
      "metadata": {
        "id": "wLCH7qsoSaOF"
      },
      "execution_count": 26,
      "outputs": []
    },
    {
      "cell_type": "code",
      "source": [
        "train_x, val_x, train_y, val_y = train_test_split(dates, temp, test_size=0.2, shuffle=False)\n",
        "\n",
        "train_set = windowed_dataset(train_y, window_size=60, batch_size=100, shuffle_buffer=1000)\n",
        "val_set = windowed_dataset(val_y, window_size=60, batch_size=100, shuffle_buffer=1000)"
      ],
      "metadata": {
        "id": "WO7AOQtTSfWO"
      },
      "execution_count": 40,
      "outputs": []
    },
    {
      "cell_type": "markdown",
      "source": [
        "**Arsitektur Model**"
      ],
      "metadata": {
        "id": "6PxWd0wb6Usi"
      }
    },
    {
      "cell_type": "code",
      "source": [
        "model = tf.keras.models.Sequential([\n",
        "    tf.keras.layers.LSTM(60, return_sequences=True),\n",
        "    tf.keras.layers.LSTM(60),\n",
        "    tf.keras.layers.Dense(30, activation='relu'),\n",
        "    tf.keras.layers.Dense(10, activation='relu'),\n",
        "    tf.keras.layers.Dense(1)\n",
        "])"
      ],
      "metadata": {
        "id": "o9FVSX8bYbKz"
      },
      "execution_count": 41,
      "outputs": []
    },
    {
      "cell_type": "markdown",
      "source": [
        "**Callbacks**"
      ],
      "metadata": {
        "id": "qx8SOaob6Z6a"
      }
    },
    {
      "cell_type": "code",
      "source": [
        "early_stopping = EarlyStopping(monitor='val_loss', mode='min',\n",
        "                               verbose=1, patience=3)\n",
        "\n",
        "callbacks = [early_stopping]"
      ],
      "metadata": {
        "id": "PK4yHFBJckLx"
      },
      "execution_count": 42,
      "outputs": []
    },
    {
      "cell_type": "markdown",
      "source": [
        "**Model Compilling and Fitting**"
      ],
      "metadata": {
        "id": "l0U7j5SA6flx"
      }
    },
    {
      "cell_type": "code",
      "source": [
        "optimizer = tf.keras.optimizers.SGD(learning_rate=1.0000e-04, momentum=0.9)\n",
        "model.compile(loss=tf.keras.losses.Huber(),\n",
        "              optimizer=optimizer,\n",
        "              metrics=['mae'])\n",
        "history = model.fit(train_set, epochs=100, validation_data=val_set, callbacks=callbacks)"
      ],
      "metadata": {
        "colab": {
          "base_uri": "https://localhost:8080/"
        },
        "id": "Lk35kvs7YsP9",
        "outputId": "5b89e0b2-7cb9-42df-98d1-f84900a7f8bd"
      },
      "execution_count": 43,
      "outputs": [
        {
          "output_type": "stream",
          "name": "stdout",
          "text": [
            "Epoch 1/100\n",
            "419/419 [==============================] - 13s 24ms/step - loss: 9.8591 - mae: 10.3468 - val_loss: 4.1468 - val_mae: 4.6160\n",
            "Epoch 2/100\n",
            "419/419 [==============================] - 10s 23ms/step - loss: 1.5261 - mae: 1.9589 - val_loss: 1.2434 - val_mae: 1.6604\n",
            "Epoch 3/100\n",
            "419/419 [==============================] - 10s 23ms/step - loss: 0.4328 - mae: 0.7643 - val_loss: 0.2877 - val_mae: 0.6076\n",
            "Epoch 4/100\n",
            "419/419 [==============================] - 11s 26ms/step - loss: 0.1634 - mae: 0.4246 - val_loss: 0.1893 - val_mae: 0.4663\n",
            "Epoch 5/100\n",
            "419/419 [==============================] - 10s 23ms/step - loss: 0.1301 - mae: 0.3768 - val_loss: 0.1502 - val_mae: 0.4164\n",
            "Epoch 6/100\n",
            "419/419 [==============================] - 10s 23ms/step - loss: 0.1126 - mae: 0.3460 - val_loss: 0.1246 - val_mae: 0.3742\n",
            "Epoch 7/100\n",
            "419/419 [==============================] - 11s 26ms/step - loss: 0.0943 - mae: 0.3136 - val_loss: 0.1077 - val_mae: 0.3457\n",
            "Epoch 8/100\n",
            "419/419 [==============================] - 10s 23ms/step - loss: 0.0861 - mae: 0.2994 - val_loss: 0.0942 - val_mae: 0.3174\n",
            "Epoch 9/100\n",
            "419/419 [==============================] - 10s 23ms/step - loss: 0.0796 - mae: 0.2850 - val_loss: 0.0991 - val_mae: 0.3327\n",
            "Epoch 10/100\n",
            "419/419 [==============================] - 10s 23ms/step - loss: 0.0743 - mae: 0.2766 - val_loss: 0.0864 - val_mae: 0.3033\n",
            "Epoch 11/100\n",
            "419/419 [==============================] - 11s 25ms/step - loss: 0.0705 - mae: 0.2683 - val_loss: 0.1168 - val_mae: 0.3884\n",
            "Epoch 12/100\n",
            "419/419 [==============================] - 10s 23ms/step - loss: 0.0677 - mae: 0.2625 - val_loss: 0.0866 - val_mae: 0.3117\n",
            "Epoch 13/100\n",
            "419/419 [==============================] - 10s 23ms/step - loss: 0.0638 - mae: 0.2552 - val_loss: 0.0820 - val_mae: 0.3036\n",
            "Epoch 14/100\n",
            "419/419 [==============================] - 10s 23ms/step - loss: 0.0608 - mae: 0.2481 - val_loss: 0.0929 - val_mae: 0.3386\n",
            "Epoch 15/100\n",
            "419/419 [==============================] - 10s 23ms/step - loss: 0.0581 - mae: 0.2417 - val_loss: 0.0685 - val_mae: 0.2695\n",
            "Epoch 16/100\n",
            "419/419 [==============================] - 10s 23ms/step - loss: 0.0568 - mae: 0.2395 - val_loss: 0.0722 - val_mae: 0.2838\n",
            "Epoch 17/100\n",
            "419/419 [==============================] - 10s 23ms/step - loss: 0.0550 - mae: 0.2358 - val_loss: 0.0657 - val_mae: 0.2666\n",
            "Epoch 18/100\n",
            "419/419 [==============================] - 11s 26ms/step - loss: 0.0529 - mae: 0.2303 - val_loss: 0.0749 - val_mae: 0.2992\n",
            "Epoch 19/100\n",
            "419/419 [==============================] - 10s 23ms/step - loss: 0.0522 - mae: 0.2294 - val_loss: 0.0546 - val_mae: 0.2341\n",
            "Epoch 20/100\n",
            "419/419 [==============================] - 10s 23ms/step - loss: 0.0511 - mae: 0.2266 - val_loss: 0.0518 - val_mae: 0.2260\n",
            "Epoch 21/100\n",
            "419/419 [==============================] - 10s 23ms/step - loss: 0.0492 - mae: 0.2217 - val_loss: 0.0558 - val_mae: 0.2406\n",
            "Epoch 22/100\n",
            "419/419 [==============================] - 10s 23ms/step - loss: 0.0472 - mae: 0.2170 - val_loss: 0.0603 - val_mae: 0.2590\n",
            "Epoch 23/100\n",
            "419/419 [==============================] - 10s 23ms/step - loss: 0.0456 - mae: 0.2129 - val_loss: 0.0496 - val_mae: 0.2214\n",
            "Epoch 24/100\n",
            "419/419 [==============================] - 11s 25ms/step - loss: 0.0439 - mae: 0.2073 - val_loss: 0.0521 - val_mae: 0.2318\n",
            "Epoch 25/100\n",
            "419/419 [==============================] - 10s 23ms/step - loss: 0.0435 - mae: 0.2057 - val_loss: 0.0461 - val_mae: 0.2117\n",
            "Epoch 26/100\n",
            "419/419 [==============================] - 10s 23ms/step - loss: 0.0427 - mae: 0.2046 - val_loss: 0.0544 - val_mae: 0.2432\n",
            "Epoch 27/100\n",
            "419/419 [==============================] - 10s 24ms/step - loss: 0.0425 - mae: 0.2048 - val_loss: 0.0464 - val_mae: 0.2149\n",
            "Epoch 28/100\n",
            "419/419 [==============================] - 10s 23ms/step - loss: 0.0402 - mae: 0.1980 - val_loss: 0.0453 - val_mae: 0.2123\n",
            "Epoch 29/100\n",
            "419/419 [==============================] - 11s 26ms/step - loss: 0.0396 - mae: 0.1963 - val_loss: 0.0523 - val_mae: 0.2387\n",
            "Epoch 30/100\n",
            "419/419 [==============================] - 10s 23ms/step - loss: 0.0394 - mae: 0.1964 - val_loss: 0.0434 - val_mae: 0.2068\n",
            "Epoch 31/100\n",
            "419/419 [==============================] - 10s 23ms/step - loss: 0.0394 - mae: 0.1976 - val_loss: 0.0523 - val_mae: 0.2433\n",
            "Epoch 32/100\n",
            "419/419 [==============================] - 10s 23ms/step - loss: 0.0384 - mae: 0.1931 - val_loss: 0.0424 - val_mae: 0.2049\n",
            "Epoch 33/100\n",
            "419/419 [==============================] - 10s 23ms/step - loss: 0.0374 - mae: 0.1901 - val_loss: 0.0443 - val_mae: 0.2136\n",
            "Epoch 34/100\n",
            "419/419 [==============================] - 10s 23ms/step - loss: 0.0395 - mae: 0.1987 - val_loss: 0.0429 - val_mae: 0.2107\n",
            "Epoch 35/100\n",
            "419/419 [==============================] - 10s 24ms/step - loss: 0.0381 - mae: 0.1927 - val_loss: 0.0425 - val_mae: 0.2082\n",
            "Epoch 35: early stopping\n"
          ]
        }
      ]
    },
    {
      "cell_type": "code",
      "source": [
        "score = model.evaluate(val_set, verbose=1)"
      ],
      "metadata": {
        "colab": {
          "base_uri": "https://localhost:8080/"
        },
        "id": "1q7QmKdpNF_4",
        "outputId": "98c91b34-e4ad-461c-be55-73a71f5a4fde"
      },
      "execution_count": 45,
      "outputs": [
        {
          "output_type": "stream",
          "name": "stdout",
          "text": [
            "105/105 [==============================] - 2s 15ms/step - loss: 0.0425 - mae: 0.2082\n"
          ]
        }
      ]
    },
    {
      "cell_type": "code",
      "source": [
        "print('Model telah berhasil mencapai minimal MAE : {} < {}'.format(score[1], treshold))"
      ],
      "metadata": {
        "colab": {
          "base_uri": "https://localhost:8080/"
        },
        "id": "jSE_5sP_NhCI",
        "outputId": "0ee20db2-17e5-4010-abc2-44412a50a0b2"
      },
      "execution_count": 50,
      "outputs": [
        {
          "output_type": "stream",
          "name": "stdout",
          "text": [
            "Model telah berhasil mencapai minimal MAE : 0.2081875503063202 < 3.6763\n"
          ]
        }
      ]
    },
    {
      "cell_type": "markdown",
      "source": [
        "**Grafik Loss dan MAE**"
      ],
      "metadata": {
        "id": "9Mk6SnJv6o0D"
      }
    },
    {
      "cell_type": "code",
      "source": [
        "plt.plot(history.history['loss'])\n",
        "plt.plot(history.history['val_loss'])\n",
        "plt.title('Loss Model')\n",
        "plt.ylabel('loss')\n",
        "plt.xlabel('epoch')\n",
        "plt.legend(['train', 'val'], loc='upper right')\n",
        "plt.show()"
      ],
      "metadata": {
        "colab": {
          "base_uri": "https://localhost:8080/",
          "height": 295
        },
        "id": "Ubm381sF2k_U",
        "outputId": "e5904d9e-95cf-41e0-94ad-23c2d6b79b42"
      },
      "execution_count": 51,
      "outputs": [
        {
          "output_type": "display_data",
          "data": {
            "text/plain": [
              "<Figure size 432x288 with 1 Axes>"
            ],
            "image/png": "[encoded data removed]"
          },
          "metadata": {
            "needs_background": "light"
          }
        }
      ]
    },
    {
      "cell_type": "code",
      "source": [
        "plt.plot(history.history['mae'])\n",
        "plt.plot(history.history['val_mae'])\n",
        "plt.title('MAE')\n",
        "plt.ylabel('mae')\n",
        "plt.xlabel('epoch')\n",
        "plt.legend(['train', 'val'], loc='upper right')\n",
        "plt.show()"
      ],
      "metadata": {
        "colab": {
          "base_uri": "https://localhost:8080/",
          "height": 295
        },
        "id": "W88UMnG_2_-V",
        "outputId": "49ed073e-b009-4ccf-cec7-04bc2c182316"
      },
      "execution_count": 52,
      "outputs": [
        {
          "output_type": "display_data",
          "data": {
            "text/plain": [
              "<Figure size 432x288 with 1 Axes>"
            ],
            "image/png": "[encoded data removed]"
          },
          "metadata": {
            "needs_background": "light"
          }
        }
      ]
    }
  ]
}